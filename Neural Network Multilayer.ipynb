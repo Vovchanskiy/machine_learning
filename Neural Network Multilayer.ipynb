{
 "cells": [
  {
   "cell_type": "code",
   "execution_count": 1,
   "metadata": {
    "collapsed": true
   },
   "outputs": [],
   "source": [
    "%matplotlib inline\n",
    "import numpy as np\n",
    "import matplotlib.pyplot as plt"
   ]
  },
  {
   "cell_type": "code",
   "execution_count": 192,
   "metadata": {
    "collapsed": true
   },
   "outputs": [],
   "source": [
    "#входные данные\n",
    "x = np.array([ [1, 1],\n",
    "              [0, 1],\n",
    "              [1, 0],\n",
    "              [0, 0] ])\n",
    "\n",
    "y = np.array([ [0],\n",
    "              [1],\n",
    "              [1],\n",
    "              [0] ])\n",
    "\n",
    "# x = np.loadtxt(r'C:\\Users\\kalinin\\Desktop\\iks.txt') #цифры в файле должны располагаться через пробел\n",
    "# y = np.loadtxt(r'C:\\Users\\kalinin\\Desktop\\igrek.txt')\n",
    "\n",
    "number_of_layers_and_neurons = [15, 20, 20] #слои и количество нейронов в каждом слое\n",
    "learning_rate = 0.3\n",
    "epoch = 10000\n",
    "a_f = 1 #функция активации: 1 - сигмоида; 0 - гиперболический тангенс\n",
    "reg_clas = 0 #если регрисионная нейронная сеть - 1, иначе - классификационная инс\n",
    "#для регрессионной инс добавляется стандартизация признаков и отсутствует активационная функция на выходном слое"
   ]
  },
  {
   "cell_type": "code",
   "execution_count": 193,
   "metadata": {
    "collapsed": false
   },
   "outputs": [
    {
     "name": "stdout",
     "output_type": "stream",
     "text": [
      "ошибка модели:  0.00807666192181\n"
     ]
    },
    {
     "data": {
      "image/png": "[encoded data removed]",
      "text/plain": [
       "<matplotlib.figure.Figure at 0x9530be0>"
      ]
     },
     "metadata": {},
     "output_type": "display_data"
    }
   ],
   "source": [
    "#измненение рамерности входных данных: (4,1) вместо (4,)\n",
    "try:\n",
    "    i = (y.shape)[1]\n",
    "except IndexError:\n",
    "    y = y.reshape(((y.shape)[0], 1))\n",
    "\n",
    "try:\n",
    "    i = (x.shape)[1]\n",
    "except IndexError:\n",
    "    x = x.reshape(((x.shape)[0], 1))\n",
    "\n",
    "#инициализация весов\n",
    "weights = []\n",
    "bias = []\n",
    "for i in range(len(number_of_layers_and_neurons)+1):\n",
    "    #определение размерности матриц\n",
    "    if i==0:\n",
    "        first_dimension = ((x.shape)[1])\n",
    "        second_dimension = number_of_layers_and_neurons[0]\n",
    "    else:\n",
    "        first_dimension = second_dimension\n",
    "        if i==len(number_of_layers_and_neurons):\n",
    "            second_dimension = ((y.shape)[1])\n",
    "        else:\n",
    "            second_dimension = number_of_layers_and_neurons[i]\n",
    "    \n",
    "    #создание матриц весов и заполнение их случайными величинами\n",
    "    w = 2*np.random.random((first_dimension, second_dimension)) - 1\n",
    "    b = 2*np.random.random((1, second_dimension)) - 1\n",
    "    weights.append(w)\n",
    "    bias.append(b)\n",
    "\n",
    "#activation_function\n",
    "def act_fun(arr, der, fun):\n",
    "    if fun == 1:\n",
    "        if der == 1:\n",
    "            arr = 1 / (1+np.exp(-arr))\n",
    "        else:\n",
    "            arr = arr*(1-arr)\n",
    "    elif fun == 0:\n",
    "        if der == 1:\n",
    "            arr = (np.exp(arr)-np.exp(-arr)) / (np.exp(arr)+np.exp(-arr))\n",
    "        else:\n",
    "            arr = 4 / (np.exp(arr)+np.exp(-arr))**2\n",
    "    return arr\n",
    "\n",
    "#стандартизация входных данных\n",
    "if reg_clas == 1:\n",
    "    for i in range(x.shape[1]):\n",
    "        x[:, i] = (x[:, i] - np.mean(x[:, i]))/np.std(x[:, i])\n",
    "    y_mean = np.mean(y[:])\n",
    "    y_std = np.std(y[:])\n",
    "    y[:] = (y[:] - np.mean(y[:]))/np.std(y[:])\n",
    "\n",
    "#обучение нейросети\n",
    "cost = []\n",
    "for e in range(epoch):\n",
    "    #the forward pass\n",
    "    values = []\n",
    "    values.append(x)\n",
    "\n",
    "    for i in range(len(weights)):\n",
    "        if reg_clas == 1 and i == len(weights)-1:\n",
    "            values.append(np.dot(values[i], weights[i]) + bias[i])\n",
    "        else:\n",
    "            values.append(act_fun( np.dot(values[i], weights[i]) + bias[i], der=1, fun=a_f))\n",
    "\n",
    "    #the backwars pass\n",
    "    d_w = [] #delta_weights\n",
    "    d_b = [] #delta_bias\n",
    "    \n",
    "    if reg_clas == 1:\n",
    "        d_w.append( (values[len(values)-1] - y) )\n",
    "    else:\n",
    "        d_w.append( (values[len(values)-1] - y) * (act_fun(values[len(values)-1], der=0, fun=a_f)) )\n",
    "    \n",
    "    for t in range(len(weights)-1, 0, -1):\n",
    "        d_w.insert(0, np.dot(d_w[0], weights[t].T) * (act_fun(values[t], der=0, fun=a_f)) )\n",
    "        \n",
    "    for t in range(len(d_w), 0, -1):\n",
    "        d_b.insert( 0, np.dot( np.ones((1, (d_w[t-1].shape)[0])),  d_w[t-1]) )\n",
    "    \n",
    "    for t in range(len(d_w), 0, -1):\n",
    "        d_w[t-1] = np.dot(values[t-1].T, d_w[t-1])\n",
    "    \n",
    "    #корректировка весов\n",
    "    for t in range(len(weights)):\n",
    "        weights[t] = weights[t] - learning_rate*d_w[t]\n",
    "        bias[t] = bias[t] - learning_rate*d_b[t]\n",
    "    \n",
    "    cost.append(abs(values[len(values)-1] - y).mean())\n",
    "    \n",
    "print 'ошибка модели: ', abs(values[len(values)-1] - y).mean()\n",
    "fig = plt.figure(figsize=(12,6))\n",
    "plt.plot(cost, label = 'error')\n",
    "plt.xlabel('epoch')\n",
    "plt.legend()\n",
    "plt.show()"
   ]
  }
 ],
 "metadata": {
  "kernelspec": {
   "display_name": "Python 2",
   "language": "python",
   "name": "python2"
  },
  "language_info": {
   "codemirror_mode": {
    "name": "ipython",
    "version": 2
   },
   "file_extension": ".py",
   "mimetype": "text/x-python",
   "name": "python",
   "nbconvert_exporter": "python",
   "pygments_lexer": "ipython2",
   "version": "2.7.13"
  }
 },
 "nbformat": 4,
 "nbformat_minor": 2
}
