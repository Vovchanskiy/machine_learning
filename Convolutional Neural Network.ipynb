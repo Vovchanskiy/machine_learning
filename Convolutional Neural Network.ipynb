{
 "cells": [
  {
   "cell_type": "code",
   "execution_count": 1,
   "metadata": {
    "collapsed": true
   },
   "outputs": [],
   "source": [
    "#a toy example of convolutional neural network\n",
    "#code written on python3.5 using only numpy for forward and backward passes\n",
    "%matplotlib inline\n",
    "import numpy as np\n",
    "import matplotlib.pyplot as plt\n",
    "plt.rcParams[\"figure.figsize\"] = [12, 9]\n",
    "\n",
    "image = np.array([\n",
    "    [1, 2, 3, 4, 5, 6],\n",
    "    [7, 8, 9, 10,11,12],\n",
    "    [13,14,15,16,17,18],\n",
    "    [13,14,15,16,17,18],\n",
    "    [7, 8, 9, 10,11,12],\n",
    "    [1, 2, 3, 4, 5, 6]])\n",
    "\n",
    "y = 10\n",
    "\n",
    "learning_rate = 0.001\n",
    "\n",
    "np.random.seed(1234)\n",
    "kernel = 2*np.random.random((5, 5)) - 1"
   ]
  },
  {
   "cell_type": "code",
   "execution_count": 2,
   "metadata": {
    "collapsed": true
   },
   "outputs": [],
   "source": [
    "def conv_forw(image, kernel):\n",
    "    output = np.zeros([image.shape[0]-kernel.shape[0]+1, image.shape[1]-kernel.shape[1]+1])\n",
    "    for i in range(output.shape[0]):\n",
    "        for j in range(output.shape[1]):\n",
    "            part_of_the_image = image[i:kernel.shape[0]+i, j:kernel.shape[1]+j]\n",
    "            #print('kernel part:', '\\n', part_of_the_image)\n",
    "            output[i,j] = (np.multiply(part_of_the_image, kernel)).sum()\n",
    "\n",
    "    return output\n",
    "\n",
    "def conv_back(image, kernel):\n",
    "    #rotate kernel by 180 degrees for backpropagation \n",
    "    kernel = np.flip(kernel, axis=1)\n",
    "    kernel = np.flip(kernel, axis=0)\n",
    "    image_zeros = np.zeros([image.shape[0]+kernel.shape[0]*2-2, image.shape[1]+kernel.shape[1]*2-2])\n",
    "    #zero padding of input image around the border for valid backpropagation of conv layer\n",
    "    for i in range(image.shape[0]):\n",
    "        for j in range(image.shape[1]):\n",
    "            image_zeros[i+kernel.shape[0]-1, j+kernel.shape[1]-1] = image[i,j]\n",
    "    image = image_zeros\n",
    "    output = conv_forw(image, kernel)\n",
    "    return output\n",
    "\n",
    "def maxpooling(image):\n",
    "    heigh = 2\n",
    "    width = 2\n",
    "\n",
    "    #zero padding\n",
    "    if image.shape[0]%heigh != 0:\n",
    "        image_padded_heigh = (image.shape[0]//heigh)*heigh + heigh\n",
    "    else:\n",
    "        image_padded_heigh = (image.shape[0]//heigh)*heigh\n",
    "\n",
    "    if image.shape[1]%width != 0:\n",
    "        image_padded_width = (image.shape[1]//width)*width + width\n",
    "    else:\n",
    "        image_padded_width = (image.shape[1]//width)*width\n",
    "\n",
    "    image_padded = np.zeros([image_padded_heigh, image_padded_width])\n",
    "    for i in range(image.shape[0]):\n",
    "        for j in range(image.shape[1]):\n",
    "            image_padded[i, j] = image[i,j]\n",
    "\n",
    "    #maxpooling\n",
    "    image_back = np.zeros([image_padded_heigh, image_padded_width])\n",
    "    output = np.zeros([int(image_padded_heigh/heigh), int(image_padded_width/width)])\n",
    "    for i in range(output.shape[0]):\n",
    "        for j in range(output.shape[1]):\n",
    "            part_of_the_image = image_padded[i*heigh:i*heigh+heigh, j*width:j*width+width]\n",
    "            output[i,j] = (np.max(part_of_the_image))\n",
    "            #index of maximum value for backprop\n",
    "            max_index = np.unravel_index(part_of_the_image.argmax(), part_of_the_image.shape)\n",
    "            image_back[max_index[0]+i*heigh, max_index[1]+j*width] = 1\n",
    "    return output, image_back\n",
    "\n",
    "#need to change to leaky relu\n",
    "def relu_forw(image):\n",
    "    output = np.copy(image)\n",
    "    output[output<0]=0\n",
    "    return output\n",
    "\n",
    "def relu_back(image):\n",
    "    output = np.copy(image)\n",
    "    output[output<=0]=0\n",
    "    output[output>0]=1\n",
    "    return output"
   ]
  },
  {
   "cell_type": "code",
   "execution_count": 3,
   "metadata": {},
   "outputs": [
    {
     "data": {
      "image/png": "[encoded data removed]",
      "text/plain": [
       "<matplotlib.figure.Figure at 0x10b15de10>"
      ]
     },
     "metadata": {},
     "output_type": "display_data"
    },
    {
     "name": "stdout",
     "output_type": "stream",
     "text": [
      "error total: -0.004250398520801113\n"
     ]
    }
   ],
   "source": [
    "#forward and backward passes\n",
    "error = []\n",
    "for i in range(10000):\n",
    "    conv_forw_result = conv_forw(image, kernel)\n",
    "    #print('convolution feedforward result', '\\n', conv_forw_result)\n",
    "\n",
    "    relu_forw_result = relu_forw(conv_forw_result)\n",
    "    #print('relu feedforward result', '\\n', relu_forw_result)\n",
    "\n",
    "    maxpool_forw_result, maxpool_back_result = maxpooling(relu_forw_result)\n",
    "    #print('maxpooling feedforward result', '\\n', maxpool_forw_result)\n",
    "    #print('maxpooling backprop result', '\\n', maxpool_back_result)\n",
    "\n",
    "    error_total = (maxpool_forw_result-y)**2\n",
    "    error.append(int(error_total))\n",
    "\n",
    "    backprop = learning_rate*maxpool_back_result*(maxpool_forw_result-y)\n",
    "\n",
    "    backprop = learning_rate*relu_forw_result*backprop\n",
    "\n",
    "    relu_back_result = relu_back(backprop)\n",
    "\n",
    "    backprop = learning_rate*relu_back_result*conv_forw_result\n",
    "\n",
    "    kernel_back = conv_forw(image, backprop)\n",
    "\n",
    "    kernel = kernel - learning_rate*kernel_back\n",
    "\n",
    "plt.plot(error)\n",
    "plt.show()\n",
    "print('error total:', float(maxpool_forw_result-y))\n",
    "\n",
    "#for later, ad second conv layer\n",
    "#conv_back_result = conv_back(_, kernel)\n",
    "#print('convolution backward result', '\\n', conv_back_result)"
   ]
  }
 ],
 "metadata": {
  "kernelspec": {
   "display_name": "Python 3",
   "language": "python",
   "name": "python3"
  },
  "language_info": {
   "codemirror_mode": {
    "name": "ipython",
    "version": 3
   },
   "file_extension": ".py",
   "mimetype": "text/x-python",
   "name": "python",
   "nbconvert_exporter": "python",
   "pygments_lexer": "ipython3",
   "version": "3.5.3"
  }
 },
 "nbformat": 4,
 "nbformat_minor": 2
}
